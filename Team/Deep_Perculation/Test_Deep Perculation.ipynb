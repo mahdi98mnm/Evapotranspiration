{
 "cells": [
  {
   "cell_type": "markdown",
   "metadata": {},
   "source": [
    "## The Current Working Directory"
   ]
  },
  {
   "cell_type": "code",
   "execution_count": 1,
   "metadata": {},
   "outputs": [
    {
     "data": {
      "text/plain": [
       "'c:\\\\Users\\\\mojtaba\\\\Desktop\\\\QDWB\\\\Deep Perculation'"
      ]
     },
     "execution_count": 1,
     "metadata": {},
     "output_type": "execute_result"
    }
   ],
   "source": [
    "pwd"
   ]
  },
  {
   "cell_type": "markdown",
   "metadata": {},
   "source": [
    "## Import Python Modules"
   ]
  },
  {
   "cell_type": "code",
   "execution_count": 2,
   "metadata": {},
   "outputs": [],
   "source": [
    "from Deep_Perculation import *\n",
    "from Modules.Check import *\n",
    "from Modules.Change_Unit_Feild_Capacity import *"
   ]
  },
  {
   "cell_type": "markdown",
   "metadata": {},
   "source": [
    "## Check"
   ]
  },
  {
   "cell_type": "markdown",
   "metadata": {},
   "source": [
    "#### Test Ckeck Soil Water"
   ]
  },
  {
   "cell_type": "code",
   "execution_count": 3,
   "metadata": {},
   "outputs": [],
   "source": [
    "Check.soilWater(30)"
   ]
  },
  {
   "cell_type": "code",
   "execution_count": 4,
   "metadata": {},
   "outputs": [
    {
     "ename": "ValueError",
     "evalue": "You can not enter a negative value",
     "output_type": "error",
     "traceback": [
      "\u001b[1;31m---------------------------------------------------------------------------\u001b[0m",
      "\u001b[1;31mValueError\u001b[0m                                Traceback (most recent call last)",
      "\u001b[1;32mc:\\Users\\mojtaba\\Desktop\\QDWB\\Deep Perculation\\Test_Deep Perculation.ipynb Cell 8'\u001b[0m in \u001b[0;36m<cell line: 1>\u001b[1;34m()\u001b[0m\n\u001b[1;32m----> <a href='vscode-notebook-cell:/c%3A/Users/mojtaba/Desktop/QDWB/Deep%20Perculation/Test_Deep%20Perculation.ipynb#ch0000007?line=0'>1</a>\u001b[0m Check\u001b[39m.\u001b[39;49msoilWater(\u001b[39m-\u001b[39;49m\u001b[39m10\u001b[39;49m)\n",
      "File \u001b[1;32mc:\\Users\\mojtaba\\Desktop\\QDWB\\Deep Perculation\\Modules\\Check.py:27\u001b[0m, in \u001b[0;36mCheck.soilWater\u001b[1;34m(soilWater)\u001b[0m\n\u001b[0;32m     <a href='file:///c%3A/Users/mojtaba/Desktop/QDWB/Deep%20Perculation/Modules/Check.py?line=24'>25</a>\u001b[0m     soilWater \u001b[39m=\u001b[39m soilWater\n\u001b[0;32m     <a href='file:///c%3A/Users/mojtaba/Desktop/QDWB/Deep%20Perculation/Modules/Check.py?line=25'>26</a>\u001b[0m \u001b[39melse\u001b[39;00m:\n\u001b[1;32m---> <a href='file:///c%3A/Users/mojtaba/Desktop/QDWB/Deep%20Perculation/Modules/Check.py?line=26'>27</a>\u001b[0m     \u001b[39mraise\u001b[39;00m \u001b[39mValueError\u001b[39;00m(\u001b[39m\"\u001b[39m\u001b[39mYou can not enter a negative value\u001b[39m\u001b[39m\"\u001b[39m)\n",
      "\u001b[1;31mValueError\u001b[0m: You can not enter a negative value"
     ]
    }
   ],
   "source": [
    "Check.soilWater(-10)"
   ]
  },
  {
   "cell_type": "markdown",
   "metadata": {},
   "source": [
    "#### Test Ckeck Feild Capacity"
   ]
  },
  {
   "cell_type": "code",
   "execution_count": 5,
   "metadata": {},
   "outputs": [],
   "source": [
    "Check.feildCapacity(50)"
   ]
  },
  {
   "cell_type": "code",
   "execution_count": 6,
   "metadata": {},
   "outputs": [
    {
     "ename": "ValueError",
     "evalue": "The value entered must be between 0 and 100%",
     "output_type": "error",
     "traceback": [
      "\u001b[1;31m---------------------------------------------------------------------------\u001b[0m",
      "\u001b[1;31mValueError\u001b[0m                                Traceback (most recent call last)",
      "\u001b[1;32mc:\\Users\\mojtaba\\Desktop\\QDWB\\Deep Perculation\\Test_Deep Perculation.ipynb Cell 11'\u001b[0m in \u001b[0;36m<cell line: 1>\u001b[1;34m()\u001b[0m\n\u001b[1;32m----> <a href='vscode-notebook-cell:/c%3A/Users/mojtaba/Desktop/QDWB/Deep%20Perculation/Test_Deep%20Perculation.ipynb#ch0000010?line=0'>1</a>\u001b[0m Check\u001b[39m.\u001b[39;49mfeildCapacity(\u001b[39m120\u001b[39;49m)\n",
      "File \u001b[1;32mc:\\Users\\mojtaba\\Desktop\\QDWB\\Deep Perculation\\Modules\\Check.py:44\u001b[0m, in \u001b[0;36mCheck.feildCapacity\u001b[1;34m(feildCapacity)\u001b[0m\n\u001b[0;32m     <a href='file:///c%3A/Users/mojtaba/Desktop/QDWB/Deep%20Perculation/Modules/Check.py?line=41'>42</a>\u001b[0m     feildCapacity \u001b[39m=\u001b[39m feildCapacity\n\u001b[0;32m     <a href='file:///c%3A/Users/mojtaba/Desktop/QDWB/Deep%20Perculation/Modules/Check.py?line=42'>43</a>\u001b[0m \u001b[39melse\u001b[39;00m:\n\u001b[1;32m---> <a href='file:///c%3A/Users/mojtaba/Desktop/QDWB/Deep%20Perculation/Modules/Check.py?line=43'>44</a>\u001b[0m     \u001b[39mraise\u001b[39;00m \u001b[39mValueError\u001b[39;00m(\u001b[39m\"\u001b[39m\u001b[39mThe value entered must be between 0 and 100\u001b[39m\u001b[39m%\u001b[39m\u001b[39m\"\u001b[39m)\n",
      "\u001b[1;31mValueError\u001b[0m: The value entered must be between 0 and 100%"
     ]
    }
   ],
   "source": [
    "Check.feildCapacity(120)"
   ]
  },
  {
   "cell_type": "code",
   "execution_count": 7,
   "metadata": {},
   "outputs": [
    {
     "ename": "ValueError",
     "evalue": "The value entered must be between 0 and 100%",
     "output_type": "error",
     "traceback": [
      "\u001b[1;31m---------------------------------------------------------------------------\u001b[0m",
      "\u001b[1;31mValueError\u001b[0m                                Traceback (most recent call last)",
      "\u001b[1;32mc:\\Users\\mojtaba\\Desktop\\QDWB\\Deep Perculation\\Test_Deep Perculation.ipynb Cell 12'\u001b[0m in \u001b[0;36m<cell line: 1>\u001b[1;34m()\u001b[0m\n\u001b[1;32m----> <a href='vscode-notebook-cell:/c%3A/Users/mojtaba/Desktop/QDWB/Deep%20Perculation/Test_Deep%20Perculation.ipynb#ch0000011?line=0'>1</a>\u001b[0m Check\u001b[39m.\u001b[39;49mfeildCapacity(\u001b[39m-\u001b[39;49m\u001b[39m10\u001b[39;49m)\n",
      "File \u001b[1;32mc:\\Users\\mojtaba\\Desktop\\QDWB\\Deep Perculation\\Modules\\Check.py:44\u001b[0m, in \u001b[0;36mCheck.feildCapacity\u001b[1;34m(feildCapacity)\u001b[0m\n\u001b[0;32m     <a href='file:///c%3A/Users/mojtaba/Desktop/QDWB/Deep%20Perculation/Modules/Check.py?line=41'>42</a>\u001b[0m     feildCapacity \u001b[39m=\u001b[39m feildCapacity\n\u001b[0;32m     <a href='file:///c%3A/Users/mojtaba/Desktop/QDWB/Deep%20Perculation/Modules/Check.py?line=42'>43</a>\u001b[0m \u001b[39melse\u001b[39;00m:\n\u001b[1;32m---> <a href='file:///c%3A/Users/mojtaba/Desktop/QDWB/Deep%20Perculation/Modules/Check.py?line=43'>44</a>\u001b[0m     \u001b[39mraise\u001b[39;00m \u001b[39mValueError\u001b[39;00m(\u001b[39m\"\u001b[39m\u001b[39mThe value entered must be between 0 and 100\u001b[39m\u001b[39m%\u001b[39m\u001b[39m\"\u001b[39m)\n",
      "\u001b[1;31mValueError\u001b[0m: The value entered must be between 0 and 100%"
     ]
    }
   ],
   "source": [
    "Check.feildCapacity(-10)"
   ]
  },
  {
   "cell_type": "markdown",
   "metadata": {},
   "source": [
    "#### Test Ckeck Geology Permeability"
   ]
  },
  {
   "cell_type": "code",
   "execution_count": 8,
   "metadata": {},
   "outputs": [],
   "source": [
    "Check.geologyPermeability(0.35)"
   ]
  },
  {
   "cell_type": "code",
   "execution_count": 9,
   "metadata": {},
   "outputs": [
    {
     "ename": "ValueError",
     "evalue": "The value entered must be between 0 and 1",
     "output_type": "error",
     "traceback": [
      "\u001b[1;31m---------------------------------------------------------------------------\u001b[0m",
      "\u001b[1;31mValueError\u001b[0m                                Traceback (most recent call last)",
      "\u001b[1;32mc:\\Users\\mojtaba\\Desktop\\QDWB\\Deep Perculation\\Test_Deep Perculation.ipynb Cell 15'\u001b[0m in \u001b[0;36m<cell line: 1>\u001b[1;34m()\u001b[0m\n\u001b[1;32m----> <a href='vscode-notebook-cell:/c%3A/Users/mojtaba/Desktop/QDWB/Deep%20Perculation/Test_Deep%20Perculation.ipynb#ch0000014?line=0'>1</a>\u001b[0m Check\u001b[39m.\u001b[39;49mgeologyPermeability(\u001b[39m-\u001b[39;49m\u001b[39m0.1\u001b[39;49m)\n",
      "File \u001b[1;32mc:\\Users\\mojtaba\\Desktop\\QDWB\\Deep Perculation\\Modules\\Check.py:61\u001b[0m, in \u001b[0;36mCheck.geologyPermeability\u001b[1;34m(geologyPermeability)\u001b[0m\n\u001b[0;32m     <a href='file:///c%3A/Users/mojtaba/Desktop/QDWB/Deep%20Perculation/Modules/Check.py?line=58'>59</a>\u001b[0m     geologyPermeability \u001b[39m=\u001b[39m geologyPermeability\n\u001b[0;32m     <a href='file:///c%3A/Users/mojtaba/Desktop/QDWB/Deep%20Perculation/Modules/Check.py?line=59'>60</a>\u001b[0m \u001b[39melse\u001b[39;00m:\n\u001b[1;32m---> <a href='file:///c%3A/Users/mojtaba/Desktop/QDWB/Deep%20Perculation/Modules/Check.py?line=60'>61</a>\u001b[0m     \u001b[39mraise\u001b[39;00m \u001b[39mValueError\u001b[39;00m(\u001b[39m\"\u001b[39m\u001b[39mThe value entered must be between 0 and 1\u001b[39m\u001b[39m\"\u001b[39m)\n",
      "\u001b[1;31mValueError\u001b[0m: The value entered must be between 0 and 1"
     ]
    }
   ],
   "source": [
    "Check.geologyPermeability(-0.1)"
   ]
  },
  {
   "cell_type": "code",
   "execution_count": 10,
   "metadata": {},
   "outputs": [
    {
     "ename": "ValueError",
     "evalue": "The value entered must be between 0 and 1",
     "output_type": "error",
     "traceback": [
      "\u001b[1;31m---------------------------------------------------------------------------\u001b[0m",
      "\u001b[1;31mValueError\u001b[0m                                Traceback (most recent call last)",
      "\u001b[1;32mc:\\Users\\mojtaba\\Desktop\\QDWB\\Deep Perculation\\Test_Deep Perculation.ipynb Cell 16'\u001b[0m in \u001b[0;36m<cell line: 1>\u001b[1;34m()\u001b[0m\n\u001b[1;32m----> <a href='vscode-notebook-cell:/c%3A/Users/mojtaba/Desktop/QDWB/Deep%20Perculation/Test_Deep%20Perculation.ipynb#ch0000015?line=0'>1</a>\u001b[0m Check\u001b[39m.\u001b[39;49mgeologyPermeability(\u001b[39m1.65\u001b[39;49m)\n",
      "File \u001b[1;32mc:\\Users\\mojtaba\\Desktop\\QDWB\\Deep Perculation\\Modules\\Check.py:61\u001b[0m, in \u001b[0;36mCheck.geologyPermeability\u001b[1;34m(geologyPermeability)\u001b[0m\n\u001b[0;32m     <a href='file:///c%3A/Users/mojtaba/Desktop/QDWB/Deep%20Perculation/Modules/Check.py?line=58'>59</a>\u001b[0m     geologyPermeability \u001b[39m=\u001b[39m geologyPermeability\n\u001b[0;32m     <a href='file:///c%3A/Users/mojtaba/Desktop/QDWB/Deep%20Perculation/Modules/Check.py?line=59'>60</a>\u001b[0m \u001b[39melse\u001b[39;00m:\n\u001b[1;32m---> <a href='file:///c%3A/Users/mojtaba/Desktop/QDWB/Deep%20Perculation/Modules/Check.py?line=60'>61</a>\u001b[0m     \u001b[39mraise\u001b[39;00m \u001b[39mValueError\u001b[39;00m(\u001b[39m\"\u001b[39m\u001b[39mThe value entered must be between 0 and 1\u001b[39m\u001b[39m\"\u001b[39m)\n",
      "\u001b[1;31mValueError\u001b[0m: The value entered must be between 0 and 1"
     ]
    }
   ],
   "source": [
    "Check.geologyPermeability(1.65)"
   ]
  },
  {
   "cell_type": "markdown",
   "metadata": {},
   "source": [
    "#### Test Ckeck Depth Soil"
   ]
  },
  {
   "cell_type": "code",
   "execution_count": 11,
   "metadata": {},
   "outputs": [],
   "source": [
    "Check.depthSoil(30)"
   ]
  },
  {
   "cell_type": "code",
   "execution_count": 12,
   "metadata": {},
   "outputs": [
    {
     "ename": "ValueError",
     "evalue": "You can not enter a negative value",
     "output_type": "error",
     "traceback": [
      "\u001b[1;31m---------------------------------------------------------------------------\u001b[0m",
      "\u001b[1;31mValueError\u001b[0m                                Traceback (most recent call last)",
      "\u001b[1;32mc:\\Users\\mojtaba\\Desktop\\QDWB\\Deep Perculation\\Test_Deep Perculation.ipynb Cell 19'\u001b[0m in \u001b[0;36m<cell line: 1>\u001b[1;34m()\u001b[0m\n\u001b[1;32m----> <a href='vscode-notebook-cell:/c%3A/Users/mojtaba/Desktop/QDWB/Deep%20Perculation/Test_Deep%20Perculation.ipynb#ch0000018?line=0'>1</a>\u001b[0m Check\u001b[39m.\u001b[39;49mdepthSoil(\u001b[39m-\u001b[39;49m\u001b[39m15\u001b[39;49m)\n",
      "File \u001b[1;32mc:\\Users\\mojtaba\\Desktop\\QDWB\\Deep Perculation\\Modules\\Check.py:77\u001b[0m, in \u001b[0;36mCheck.depthSoil\u001b[1;34m(depthSoil)\u001b[0m\n\u001b[0;32m     <a href='file:///c%3A/Users/mojtaba/Desktop/QDWB/Deep%20Perculation/Modules/Check.py?line=74'>75</a>\u001b[0m     depthSoil \u001b[39m=\u001b[39m depthSoil\n\u001b[0;32m     <a href='file:///c%3A/Users/mojtaba/Desktop/QDWB/Deep%20Perculation/Modules/Check.py?line=75'>76</a>\u001b[0m \u001b[39melse\u001b[39;00m:\n\u001b[1;32m---> <a href='file:///c%3A/Users/mojtaba/Desktop/QDWB/Deep%20Perculation/Modules/Check.py?line=76'>77</a>\u001b[0m     \u001b[39mraise\u001b[39;00m \u001b[39mValueError\u001b[39;00m(\u001b[39m\"\u001b[39m\u001b[39mYou can not enter a negative value\u001b[39m\u001b[39m\"\u001b[39m)\n",
      "\u001b[1;31mValueError\u001b[0m: You can not enter a negative value"
     ]
    }
   ],
   "source": [
    "Check.depthSoil(-15)"
   ]
  },
  {
   "cell_type": "markdown",
   "metadata": {},
   "source": [
    "## Convert"
   ]
  },
  {
   "cell_type": "markdown",
   "metadata": {},
   "source": [
    "### Test Convert Feild Capacity in % Valume to mm"
   ]
  },
  {
   "cell_type": "code",
   "execution_count": 13,
   "metadata": {},
   "outputs": [
    {
     "data": {
      "text/plain": [
       "75.0"
      ]
     },
     "execution_count": 13,
     "metadata": {},
     "output_type": "execute_result"
    }
   ],
   "source": [
    "Convert.changeUnitFeildCapacity(30, 25)"
   ]
  },
  {
   "cell_type": "markdown",
   "metadata": {},
   "source": [
    "## CalculationDeepPerculatoin"
   ]
  },
  {
   "cell_type": "markdown",
   "metadata": {},
   "source": [
    "#### Test Calculate Deep Perculation Function"
   ]
  },
  {
   "cell_type": "code",
   "execution_count": 14,
   "metadata": {},
   "outputs": [
    {
     "data": {
      "text/plain": [
       "(25.0, 75.0)"
      ]
     },
     "execution_count": 14,
     "metadata": {},
     "output_type": "execute_result"
    }
   ],
   "source": [
    "CalculationDeepPerculatoin(100, 30, 0.3, 25).calculationDeepPerculation()"
   ]
  },
  {
   "cell_type": "code",
   "execution_count": 15,
   "metadata": {},
   "outputs": [
    {
     "data": {
      "text/plain": [
       "(0, 50)"
      ]
     },
     "execution_count": 15,
     "metadata": {},
     "output_type": "execute_result"
    }
   ],
   "source": [
    "CalculationDeepPerculatoin(50, 30, 0.3, 25).calculationDeepPerculation()"
   ]
  },
  {
   "cell_type": "code",
   "execution_count": 16,
   "metadata": {},
   "outputs": [
    {
     "ename": "ValueError",
     "evalue": "The value entered must be between 0 and 100%",
     "output_type": "error",
     "traceback": [
      "\u001b[1;31m---------------------------------------------------------------------------\u001b[0m",
      "\u001b[1;31mValueError\u001b[0m                                Traceback (most recent call last)",
      "\u001b[1;32mc:\\Users\\mojtaba\\Desktop\\QDWB\\Deep Perculation\\Test_Deep Perculation.ipynb Cell 27'\u001b[0m in \u001b[0;36m<cell line: 1>\u001b[1;34m()\u001b[0m\n\u001b[1;32m----> <a href='vscode-notebook-cell:/c%3A/Users/mojtaba/Desktop/QDWB/Deep%20Perculation/Test_Deep%20Perculation.ipynb#ch0000026?line=0'>1</a>\u001b[0m CalculationDeepPerculatoin(\u001b[39m100\u001b[39;49m, \u001b[39m130\u001b[39;49m, \u001b[39m0.3\u001b[39;49m, \u001b[39m25\u001b[39;49m)\u001b[39m.\u001b[39mcalculationDeepPerculation()\n",
      "File \u001b[1;32mc:\\Users\\mojtaba\\Desktop\\QDWB\\Deep Perculation\\Deep_Perculation.py:31\u001b[0m, in \u001b[0;36mCalculationDeepPerculatoin.__init__\u001b[1;34m(self, soilWater, feildCapacity, geologyPermeability, depthSoil)\u001b[0m\n\u001b[0;32m     <a href='file:///c%3A/Users/mojtaba/Desktop/QDWB/Deep%20Perculation/Deep_Perculation.py?line=27'>28</a>\u001b[0m \u001b[39mself\u001b[39m\u001b[39m.\u001b[39mdepthSoil \u001b[39m=\u001b[39m depthSoil\n\u001b[0;32m     <a href='file:///c%3A/Users/mojtaba/Desktop/QDWB/Deep%20Perculation/Deep_Perculation.py?line=29'>30</a>\u001b[0m Check\u001b[39m.\u001b[39msoilWater(\u001b[39mself\u001b[39m\u001b[39m.\u001b[39msoilWater)\n\u001b[1;32m---> <a href='file:///c%3A/Users/mojtaba/Desktop/QDWB/Deep%20Perculation/Deep_Perculation.py?line=30'>31</a>\u001b[0m Check\u001b[39m.\u001b[39;49mfeildCapacity(\u001b[39mself\u001b[39;49m\u001b[39m.\u001b[39;49mfeildCapacity)\n\u001b[0;32m     <a href='file:///c%3A/Users/mojtaba/Desktop/QDWB/Deep%20Perculation/Deep_Perculation.py?line=31'>32</a>\u001b[0m Check\u001b[39m.\u001b[39mgeologyPermeability(\u001b[39mself\u001b[39m\u001b[39m.\u001b[39mgeologyPermeability)\n\u001b[0;32m     <a href='file:///c%3A/Users/mojtaba/Desktop/QDWB/Deep%20Perculation/Deep_Perculation.py?line=32'>33</a>\u001b[0m Check\u001b[39m.\u001b[39mdepthSoil(\u001b[39mself\u001b[39m\u001b[39m.\u001b[39mdepthSoil)\n",
      "File \u001b[1;32mc:\\Users\\mojtaba\\Desktop\\QDWB\\Deep Perculation\\Modules\\Check.py:44\u001b[0m, in \u001b[0;36mCheck.feildCapacity\u001b[1;34m(feildCapacity)\u001b[0m\n\u001b[0;32m     <a href='file:///c%3A/Users/mojtaba/Desktop/QDWB/Deep%20Perculation/Modules/Check.py?line=41'>42</a>\u001b[0m     feildCapacity \u001b[39m=\u001b[39m feildCapacity\n\u001b[0;32m     <a href='file:///c%3A/Users/mojtaba/Desktop/QDWB/Deep%20Perculation/Modules/Check.py?line=42'>43</a>\u001b[0m \u001b[39melse\u001b[39;00m:\n\u001b[1;32m---> <a href='file:///c%3A/Users/mojtaba/Desktop/QDWB/Deep%20Perculation/Modules/Check.py?line=43'>44</a>\u001b[0m     \u001b[39mraise\u001b[39;00m \u001b[39mValueError\u001b[39;00m(\u001b[39m\"\u001b[39m\u001b[39mThe value entered must be between 0 and 100\u001b[39m\u001b[39m%\u001b[39m\u001b[39m\"\u001b[39m)\n",
      "\u001b[1;31mValueError\u001b[0m: The value entered must be between 0 and 100%"
     ]
    }
   ],
   "source": [
    "CalculationDeepPerculatoin(100, 130, 0.3, 25).calculationDeepPerculation()"
   ]
  },
  {
   "cell_type": "markdown",
   "metadata": {},
   "source": [
    "#### Test Calculate Correction Deep Perculation Function"
   ]
  },
  {
   "cell_type": "code",
   "execution_count": 17,
   "metadata": {},
   "outputs": [
    {
     "data": {
      "text/plain": [
       "0.0"
      ]
     },
     "execution_count": 17,
     "metadata": {},
     "output_type": "execute_result"
    }
   ],
   "source": [
    "CalculationDeepPerculatoin(50, 30, 0.3, 25).correctionDeepPerculation()"
   ]
  },
  {
   "cell_type": "code",
   "execution_count": 18,
   "metadata": {},
   "outputs": [
    {
     "data": {
      "text/plain": [
       "17.5"
      ]
     },
     "execution_count": 18,
     "metadata": {},
     "output_type": "execute_result"
    }
   ],
   "source": [
    "CalculationDeepPerculatoin(100, 30, 0.3, 25).correctionDeepPerculation()"
   ]
  },
  {
   "cell_type": "code",
   "execution_count": 19,
   "metadata": {},
   "outputs": [
    {
     "ename": "ValueError",
     "evalue": "The value entered must be between 0 and 1",
     "output_type": "error",
     "traceback": [
      "\u001b[1;31m---------------------------------------------------------------------------\u001b[0m",
      "\u001b[1;31mValueError\u001b[0m                                Traceback (most recent call last)",
      "\u001b[1;32mc:\\Users\\mojtaba\\Desktop\\QDWB\\Deep Perculation\\Test_Deep Perculation.ipynb Cell 31'\u001b[0m in \u001b[0;36m<cell line: 1>\u001b[1;34m()\u001b[0m\n\u001b[1;32m----> <a href='vscode-notebook-cell:/c%3A/Users/mojtaba/Desktop/QDWB/Deep%20Perculation/Test_Deep%20Perculation.ipynb#ch0000030?line=0'>1</a>\u001b[0m CalculationDeepPerculatoin(\u001b[39m50\u001b[39;49m, \u001b[39m30\u001b[39;49m, \u001b[39m-\u001b[39;49m\u001b[39m0.1\u001b[39;49m, \u001b[39m25\u001b[39;49m)\u001b[39m.\u001b[39mcorrectionDeepPerculation()\n",
      "File \u001b[1;32mc:\\Users\\mojtaba\\Desktop\\QDWB\\Deep Perculation\\Deep_Perculation.py:32\u001b[0m, in \u001b[0;36mCalculationDeepPerculatoin.__init__\u001b[1;34m(self, soilWater, feildCapacity, geologyPermeability, depthSoil)\u001b[0m\n\u001b[0;32m     <a href='file:///c%3A/Users/mojtaba/Desktop/QDWB/Deep%20Perculation/Deep_Perculation.py?line=29'>30</a>\u001b[0m Check\u001b[39m.\u001b[39msoilWater(\u001b[39mself\u001b[39m\u001b[39m.\u001b[39msoilWater)\n\u001b[0;32m     <a href='file:///c%3A/Users/mojtaba/Desktop/QDWB/Deep%20Perculation/Deep_Perculation.py?line=30'>31</a>\u001b[0m Check\u001b[39m.\u001b[39mfeildCapacity(\u001b[39mself\u001b[39m\u001b[39m.\u001b[39mfeildCapacity)\n\u001b[1;32m---> <a href='file:///c%3A/Users/mojtaba/Desktop/QDWB/Deep%20Perculation/Deep_Perculation.py?line=31'>32</a>\u001b[0m Check\u001b[39m.\u001b[39;49mgeologyPermeability(\u001b[39mself\u001b[39;49m\u001b[39m.\u001b[39;49mgeologyPermeability)\n\u001b[0;32m     <a href='file:///c%3A/Users/mojtaba/Desktop/QDWB/Deep%20Perculation/Deep_Perculation.py?line=32'>33</a>\u001b[0m Check\u001b[39m.\u001b[39mdepthSoil(\u001b[39mself\u001b[39m\u001b[39m.\u001b[39mdepthSoil)\n",
      "File \u001b[1;32mc:\\Users\\mojtaba\\Desktop\\QDWB\\Deep Perculation\\Modules\\Check.py:61\u001b[0m, in \u001b[0;36mCheck.geologyPermeability\u001b[1;34m(geologyPermeability)\u001b[0m\n\u001b[0;32m     <a href='file:///c%3A/Users/mojtaba/Desktop/QDWB/Deep%20Perculation/Modules/Check.py?line=58'>59</a>\u001b[0m     geologyPermeability \u001b[39m=\u001b[39m geologyPermeability\n\u001b[0;32m     <a href='file:///c%3A/Users/mojtaba/Desktop/QDWB/Deep%20Perculation/Modules/Check.py?line=59'>60</a>\u001b[0m \u001b[39melse\u001b[39;00m:\n\u001b[1;32m---> <a href='file:///c%3A/Users/mojtaba/Desktop/QDWB/Deep%20Perculation/Modules/Check.py?line=60'>61</a>\u001b[0m     \u001b[39mraise\u001b[39;00m \u001b[39mValueError\u001b[39;00m(\u001b[39m\"\u001b[39m\u001b[39mThe value entered must be between 0 and 1\u001b[39m\u001b[39m\"\u001b[39m)\n",
      "\u001b[1;31mValueError\u001b[0m: The value entered must be between 0 and 1"
     ]
    }
   ],
   "source": [
    "CalculationDeepPerculatoin(50, 30, -0.1, 25).correctionDeepPerculation()"
   ]
  },
  {
   "cell_type": "markdown",
   "metadata": {},
   "source": [
    "#### Test Calculate Late Runoff Function"
   ]
  },
  {
   "cell_type": "code",
   "execution_count": 20,
   "metadata": {},
   "outputs": [
    {
     "data": {
      "text/plain": [
       "7.5"
      ]
     },
     "execution_count": 20,
     "metadata": {},
     "output_type": "execute_result"
    }
   ],
   "source": [
    "CalculationDeepPerculatoin(100, 30, 0.3, 25).calculationLateRunoff()"
   ]
  },
  {
   "cell_type": "code",
   "execution_count": 21,
   "metadata": {},
   "outputs": [
    {
     "data": {
      "text/plain": [
       "0.0"
      ]
     },
     "execution_count": 21,
     "metadata": {},
     "output_type": "execute_result"
    }
   ],
   "source": [
    "CalculationDeepPerculatoin(50, 30, 0.3, 25).calculationLateRunoff()"
   ]
  },
  {
   "cell_type": "code",
   "execution_count": 22,
   "metadata": {},
   "outputs": [
    {
     "ename": "ValueError",
     "evalue": "The value entered must be between 0 and 1",
     "output_type": "error",
     "traceback": [
      "\u001b[1;31m---------------------------------------------------------------------------\u001b[0m",
      "\u001b[1;31mValueError\u001b[0m                                Traceback (most recent call last)",
      "\u001b[1;32mc:\\Users\\mojtaba\\Desktop\\QDWB\\Deep Perculation\\Test_Deep Perculation.ipynb Cell 35'\u001b[0m in \u001b[0;36m<cell line: 1>\u001b[1;34m()\u001b[0m\n\u001b[1;32m----> <a href='vscode-notebook-cell:/c%3A/Users/mojtaba/Desktop/QDWB/Deep%20Perculation/Test_Deep%20Perculation.ipynb#ch0000034?line=0'>1</a>\u001b[0m CalculationDeepPerculatoin(\u001b[39m100\u001b[39;49m, \u001b[39m30\u001b[39;49m, \u001b[39m1.2\u001b[39;49m, \u001b[39m25\u001b[39;49m)\u001b[39m.\u001b[39mcalculationLateRunoff()\n",
      "File \u001b[1;32mc:\\Users\\mojtaba\\Desktop\\QDWB\\Deep Perculation\\Deep_Perculation.py:32\u001b[0m, in \u001b[0;36mCalculationDeepPerculatoin.__init__\u001b[1;34m(self, soilWater, feildCapacity, geologyPermeability, depthSoil)\u001b[0m\n\u001b[0;32m     <a href='file:///c%3A/Users/mojtaba/Desktop/QDWB/Deep%20Perculation/Deep_Perculation.py?line=29'>30</a>\u001b[0m Check\u001b[39m.\u001b[39msoilWater(\u001b[39mself\u001b[39m\u001b[39m.\u001b[39msoilWater)\n\u001b[0;32m     <a href='file:///c%3A/Users/mojtaba/Desktop/QDWB/Deep%20Perculation/Deep_Perculation.py?line=30'>31</a>\u001b[0m Check\u001b[39m.\u001b[39mfeildCapacity(\u001b[39mself\u001b[39m\u001b[39m.\u001b[39mfeildCapacity)\n\u001b[1;32m---> <a href='file:///c%3A/Users/mojtaba/Desktop/QDWB/Deep%20Perculation/Deep_Perculation.py?line=31'>32</a>\u001b[0m Check\u001b[39m.\u001b[39;49mgeologyPermeability(\u001b[39mself\u001b[39;49m\u001b[39m.\u001b[39;49mgeologyPermeability)\n\u001b[0;32m     <a href='file:///c%3A/Users/mojtaba/Desktop/QDWB/Deep%20Perculation/Deep_Perculation.py?line=32'>33</a>\u001b[0m Check\u001b[39m.\u001b[39mdepthSoil(\u001b[39mself\u001b[39m\u001b[39m.\u001b[39mdepthSoil)\n",
      "File \u001b[1;32mc:\\Users\\mojtaba\\Desktop\\QDWB\\Deep Perculation\\Modules\\Check.py:61\u001b[0m, in \u001b[0;36mCheck.geologyPermeability\u001b[1;34m(geologyPermeability)\u001b[0m\n\u001b[0;32m     <a href='file:///c%3A/Users/mojtaba/Desktop/QDWB/Deep%20Perculation/Modules/Check.py?line=58'>59</a>\u001b[0m     geologyPermeability \u001b[39m=\u001b[39m geologyPermeability\n\u001b[0;32m     <a href='file:///c%3A/Users/mojtaba/Desktop/QDWB/Deep%20Perculation/Modules/Check.py?line=59'>60</a>\u001b[0m \u001b[39melse\u001b[39;00m:\n\u001b[1;32m---> <a href='file:///c%3A/Users/mojtaba/Desktop/QDWB/Deep%20Perculation/Modules/Check.py?line=60'>61</a>\u001b[0m     \u001b[39mraise\u001b[39;00m \u001b[39mValueError\u001b[39;00m(\u001b[39m\"\u001b[39m\u001b[39mThe value entered must be between 0 and 1\u001b[39m\u001b[39m\"\u001b[39m)\n",
      "\u001b[1;31mValueError\u001b[0m: The value entered must be between 0 and 1"
     ]
    }
   ],
   "source": [
    "CalculationDeepPerculatoin(100, 30, 1.2, 25).calculationLateRunoff()"
   ]
  }
 ],
 "metadata": {
  "interpreter": {
   "hash": "ee3673bb1c40ac234ce81f2122bb19d0f964576dc3022b9fbc88c0d4f79c003d"
  },
  "kernelspec": {
   "display_name": "Python 3.10.0 ('vevn_MICE')",
   "language": "python",
   "name": "python3"
  },
  "language_info": {
   "codemirror_mode": {
    "name": "ipython",
    "version": 3
   },
   "file_extension": ".py",
   "mimetype": "text/x-python",
   "name": "python",
   "nbconvert_exporter": "python",
   "pygments_lexer": "ipython3",
   "version": "3.10.0"
  },
  "orig_nbformat": 4
 },
 "nbformat": 4,
 "nbformat_minor": 2
}
