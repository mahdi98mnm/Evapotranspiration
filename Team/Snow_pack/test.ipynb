{
 "cells": [
  {
   "cell_type": "markdown",
   "metadata": {},
   "source": [
    "## The Current Working Directory\n"
   ]
  },
  {
   "cell_type": "code",
   "execution_count": 2,
   "metadata": {},
   "outputs": [
    {
     "data": {
      "text/plain": [
       "'d:\\\\me\\\\water balance\\\\snow pack\\\\python'"
      ]
     },
     "execution_count": 2,
     "metadata": {},
     "output_type": "execute_result"
    }
   ],
   "source": [
    "pwd"
   ]
  },
  {
   "cell_type": "markdown",
   "metadata": {},
   "source": [
    "## Import Python Modules"
   ]
  },
  {
   "cell_type": "code",
   "execution_count": 2,
   "metadata": {},
   "outputs": [],
   "source": [
    "import snowfall\n",
    "import snowmelt\n",
    "import check\n",
    "import sublimation"
   ]
  },
  {
   "cell_type": "markdown",
   "metadata": {},
   "source": [
    "## Check"
   ]
  },
  {
   "cell_type": "markdown",
   "metadata": {},
   "source": [
    "### Test Check Maximum Temperature Is Valid"
   ]
  },
  {
   "cell_type": "code",
   "execution_count": 4,
   "metadata": {},
   "outputs": [
    {
     "ename": "ValueError",
     "evalue": "The daily maximum temperature must be above the freezing point (0°c) : -20",
     "output_type": "error",
     "traceback": [
      "\u001b[1;31m---------------------------------------------------------------------------\u001b[0m",
      "\u001b[1;31mValueError\u001b[0m                                Traceback (most recent call last)",
      "\u001b[1;32md:\\me\\water balance\\snow pack\\codes\\test.ipynb Cell 7'\u001b[0m in \u001b[0;36m<cell line: 2>\u001b[1;34m()\u001b[0m\n\u001b[0;32m      <a href='vscode-notebook-cell:/d%3A/me/water%20balance/snow%20pack/codes/test.ipynb#ch0000007?line=0'>1</a>\u001b[0m check\u001b[39m.\u001b[39mcheck_maximum_temperature(\u001b[39m20\u001b[39m)\n\u001b[1;32m----> <a href='vscode-notebook-cell:/d%3A/me/water%20balance/snow%20pack/codes/test.ipynb#ch0000007?line=1'>2</a>\u001b[0m check\u001b[39m.\u001b[39;49mcheck_maximum_temperature(\u001b[39m-\u001b[39;49m\u001b[39m20\u001b[39;49m)\n",
      "File \u001b[1;32md:\\me\\water balance\\snow pack\\codes\\check.py:23\u001b[0m, in \u001b[0;36mcheck_maximum_temperature\u001b[1;34m(tmax)\u001b[0m\n\u001b[0;32m     <a href='file:///d%3A/me/water%20balance/snow%20pack/codes/check.py?line=11'>12</a>\u001b[0m \u001b[39m\"\"\"\u001b[39;00m\n\u001b[0;32m     <a href='file:///d%3A/me/water%20balance/snow%20pack/codes/check.py?line=12'>13</a>\u001b[0m \u001b[39mDescription\u001b[39;00m\n\u001b[0;32m     <a href='file:///d%3A/me/water%20balance/snow%20pack/codes/check.py?line=13'>14</a>\u001b[0m \u001b[39m-----------\u001b[39;00m\n\u001b[1;32m   (...)\u001b[0m\n\u001b[0;32m     <a href='file:///d%3A/me/water%20balance/snow%20pack/codes/check.py?line=18'>19</a>\u001b[0m \u001b[39m    Maximum Daily Temperature [Degrees Celsius]\u001b[39;00m\n\u001b[0;32m     <a href='file:///d%3A/me/water%20balance/snow%20pack/codes/check.py?line=19'>20</a>\u001b[0m \u001b[39m\"\"\"\u001b[39;00m\n\u001b[0;32m     <a href='file:///d%3A/me/water%20balance/snow%20pack/codes/check.py?line=21'>22</a>\u001b[0m \u001b[39mif\u001b[39;00m \u001b[39mnot\u001b[39;00m tmax \u001b[39m>\u001b[39m \u001b[39m0\u001b[39m:\n\u001b[1;32m---> <a href='file:///d%3A/me/water%20balance/snow%20pack/codes/check.py?line=22'>23</a>\u001b[0m     \u001b[39mraise\u001b[39;00m \u001b[39mValueError\u001b[39;00m(\n\u001b[0;32m     <a href='file:///d%3A/me/water%20balance/snow%20pack/codes/check.py?line=23'>24</a>\u001b[0m         \u001b[39mf\u001b[39m\u001b[39m'\u001b[39m\u001b[39mThe daily maximum temperature must be above the freezing point (0°c) : \u001b[39m\u001b[39m{\u001b[39;00mtmax\u001b[39m}\u001b[39;00m\u001b[39m'\u001b[39m\n\u001b[0;32m     <a href='file:///d%3A/me/water%20balance/snow%20pack/codes/check.py?line=24'>25</a>\u001b[0m     )\n",
      "\u001b[1;31mValueError\u001b[0m: The daily maximum temperature must be above the freezing point (0°c) : -20"
     ]
    }
   ],
   "source": [
    "check.check_maximum_temperature(20)\n",
    "check.check_maximum_temperature(-20)"
   ]
  },
  {
   "cell_type": "markdown",
   "metadata": {},
   "source": [
    "## Snowfall"
   ]
  },
  {
   "cell_type": "markdown",
   "metadata": {},
   "source": [
    "### Test Check Precipitation Is Snow or Rain"
   ]
  },
  {
   "cell_type": "code",
   "execution_count": 21,
   "metadata": {},
   "outputs": [],
   "source": [
    "snowfall.snow_fall(tmax=10, tmin=-3, tmean=3.5)\n",
    "snowfall.snow_fall(tmax=11, tmin=-1, tmean=5)"
   ]
  },
  {
   "cell_type": "markdown",
   "metadata": {},
   "source": [
    "## Snowmelt"
   ]
  },
  {
   "cell_type": "markdown",
   "metadata": {},
   "source": [
    "### Test Calculate the Snowmelt"
   ]
  },
  {
   "cell_type": "code",
   "execution_count": 19,
   "metadata": {},
   "outputs": [
    {
     "data": {
      "text/plain": [
       "16.5"
      ]
     },
     "execution_count": 19,
     "metadata": {},
     "output_type": "execute_result"
    }
   ],
   "source": [
    "snowmelt.snow_melt(tmax=11)"
   ]
  },
  {
   "cell_type": "markdown",
   "metadata": {},
   "source": [
    "## Sublimation"
   ]
  },
  {
   "cell_type": "markdown",
   "metadata": {},
   "source": [
    "### Test Calculate the Sublimation"
   ]
  },
  {
   "cell_type": "code",
   "execution_count": 24,
   "metadata": {},
   "outputs": [
    {
     "data": {
      "text/plain": [
       "2.388"
      ]
     },
     "execution_count": 24,
     "metadata": {},
     "output_type": "execute_result"
    }
   ],
   "source": [
    "sublimation.evaporation_sublimation_snow_ice_surface(u10=12 , esn=0.3 , e2=0.1)"
   ]
  }
 ],
 "metadata": {
  "interpreter": {
   "hash": "6a926afa313b26ae1264fdcf81c726a97e69f6ba2ba780f6aa901948710f8d6e"
  },
  "kernelspec": {
   "display_name": "Python 3.8.1 64-bit",
   "language": "python",
   "name": "python3"
  },
  "language_info": {
   "codemirror_mode": {
    "name": "ipython",
    "version": 3
   },
   "file_extension": ".py",
   "mimetype": "text/x-python",
   "name": "python",
   "nbconvert_exporter": "python",
   "pygments_lexer": "ipython3",
   "version": "3.8.1"
  },
  "orig_nbformat": 4
 },
 "nbformat": 4,
 "nbformat_minor": 2
}
