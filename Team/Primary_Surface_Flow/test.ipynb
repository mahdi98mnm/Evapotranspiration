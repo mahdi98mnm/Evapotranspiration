{
 "cells": [
  {
   "cell_type": "markdown",
   "metadata": {},
   "source": [
    "### Detect the current working directory"
   ]
  },
  {
   "cell_type": "code",
   "execution_count": 1,
   "metadata": {},
   "outputs": [
    {
     "data": {
      "text/plain": [
       "'d:\\\\javad\\\\Documents\\\\Research\\\\Water Balance\\\\personal\\\\PrimarySurfaceFlow'"
      ]
     },
     "execution_count": 1,
     "metadata": {},
     "output_type": "execute_result"
    }
   ],
   "source": [
    "import os\n",
    "os.getcwd()"
   ]
  },
  {
   "cell_type": "markdown",
   "metadata": {},
   "source": [
    "### Change the current working directory"
   ]
  },
  {
   "cell_type": "code",
   "execution_count": 2,
   "metadata": {},
   "outputs": [
    {
     "data": {
      "text/plain": [
       "'D:\\\\javad\\\\Documents\\\\Research\\\\Water Balance\\\\Telegram main group\\\\1401-01-30\\\\QDWB\\\\qdwb\\\\evapotranspiration'"
      ]
     },
     "execution_count": 2,
     "metadata": {},
     "output_type": "execute_result"
    }
   ],
   "source": [
    "os.chdir(r\"D:\\javad\\Documents\\Research\\Water Balance\\Telegram main group\\1401-01-30\\QDWB\\qdwb\\evapotranspiration\")\n",
    "os.getcwd()"
   ]
  },
  {
   "cell_type": "markdown",
   "metadata": {},
   "source": [
    "### Import Python Modules"
   ]
  },
  {
   "cell_type": "code",
   "execution_count": 3,
   "metadata": {},
   "outputs": [],
   "source": [
    "import PrimarySurfaceFlow as psf\n",
    "import modules.check as check\n",
    "import modules.potential_retention as s_param\n",
    "import modules.CN_modification as cn_mod"
   ]
  },
  {
   "cell_type": "markdown",
   "metadata": {},
   "source": [
    "## Check\n",
    "#### Check if precipitation value is negative"
   ]
  },
  {
   "cell_type": "code",
   "execution_count": 4,
   "metadata": {},
   "outputs": [],
   "source": [
    "check.check_precipitation(precipitation=95)"
   ]
  },
  {
   "cell_type": "code",
   "execution_count": 6,
   "metadata": {},
   "outputs": [
    {
     "ename": "ValueError",
     "evalue": "Precipitation value must be greater than zero: -95",
     "output_type": "error",
     "traceback": [
      "\u001b[1;31m---------------------------------------------------------------------------\u001b[0m",
      "\u001b[1;31mValueError\u001b[0m                                Traceback (most recent call last)",
      "\u001b[1;32m~\\AppData\\Local\\Temp\\ipykernel_3568\\4036232013.py\u001b[0m in \u001b[0;36m<module>\u001b[1;34m\u001b[0m\n\u001b[1;32m----> 1\u001b[1;33m \u001b[0mcheck\u001b[0m\u001b[1;33m.\u001b[0m\u001b[0mcheck_precipitation\u001b[0m\u001b[1;33m(\u001b[0m\u001b[0mprecipitation\u001b[0m\u001b[1;33m=\u001b[0m\u001b[1;33m-\u001b[0m\u001b[1;36m95\u001b[0m\u001b[1;33m)\u001b[0m\u001b[1;33m\u001b[0m\u001b[1;33m\u001b[0m\u001b[0m\n\u001b[0m",
      "\u001b[1;32md:\\javad\\Documents\\Research\\Water Balance\\personal\\PrimarySurfaceFlow\\modules\\check.py\u001b[0m in \u001b[0;36mcheck_precipitation\u001b[1;34m(precipitation)\u001b[0m\n\u001b[0;32m     30\u001b[0m     \u001b[1;32mif\u001b[0m \u001b[0mlt\u001b[0m\u001b[1;33m(\u001b[0m\u001b[0mprecipitation\u001b[0m\u001b[1;33m,\u001b[0m \u001b[1;36m0\u001b[0m\u001b[1;33m)\u001b[0m\u001b[1;33m:\u001b[0m\u001b[1;33m\u001b[0m\u001b[1;33m\u001b[0m\u001b[0m\n\u001b[0;32m     31\u001b[0m         raise ValueError(\n\u001b[1;32m---> 32\u001b[1;33m             \u001b[1;34mf'Precipitation value must be greater than zero: {precipitation}'\u001b[0m\u001b[1;33m\u001b[0m\u001b[1;33m\u001b[0m\u001b[0m\n\u001b[0m\u001b[0;32m     33\u001b[0m         )\n\u001b[0;32m     34\u001b[0m \u001b[1;33m\u001b[0m\u001b[0m\n",
      "\u001b[1;31mValueError\u001b[0m: Precipitation value must be greater than zero: -95"
     ]
    }
   ],
   "source": [
    "check.check_precipitation(precipitation=-95)"
   ]
  },
  {
   "cell_type": "code",
   "execution_count": 7,
   "metadata": {},
   "outputs": [
    {
     "ename": "TypeError",
     "evalue": "Precipitation value must be int or float: 95",
     "output_type": "error",
     "traceback": [
      "\u001b[1;31m---------------------------------------------------------------------------\u001b[0m",
      "\u001b[1;31mTypeError\u001b[0m                                 Traceback (most recent call last)",
      "\u001b[1;32m~\\AppData\\Local\\Temp\\ipykernel_3568\\2061060193.py\u001b[0m in \u001b[0;36m<module>\u001b[1;34m\u001b[0m\n\u001b[1;32m----> 1\u001b[1;33m \u001b[0mcheck\u001b[0m\u001b[1;33m.\u001b[0m\u001b[0mcheck_precipitation\u001b[0m\u001b[1;33m(\u001b[0m\u001b[0mprecipitation\u001b[0m\u001b[1;33m=\u001b[0m\u001b[1;34m\"95\"\u001b[0m\u001b[1;33m)\u001b[0m\u001b[1;33m\u001b[0m\u001b[1;33m\u001b[0m\u001b[0m\n\u001b[0m",
      "\u001b[1;32md:\\javad\\Documents\\Research\\Water Balance\\personal\\PrimarySurfaceFlow\\modules\\check.py\u001b[0m in \u001b[0;36mcheck_precipitation\u001b[1;34m(precipitation)\u001b[0m\n\u001b[0;32m     25\u001b[0m     \u001b[1;32mif\u001b[0m \u001b[1;32mnot\u001b[0m \u001b[0misinstance\u001b[0m\u001b[1;33m(\u001b[0m\u001b[0mprecipitation\u001b[0m\u001b[1;33m,\u001b[0m \u001b[1;33m(\u001b[0m\u001b[0mint\u001b[0m\u001b[1;33m,\u001b[0m \u001b[0mfloat\u001b[0m\u001b[1;33m)\u001b[0m\u001b[1;33m)\u001b[0m\u001b[1;33m:\u001b[0m\u001b[1;33m\u001b[0m\u001b[1;33m\u001b[0m\u001b[0m\n\u001b[0;32m     26\u001b[0m         raise TypeError(\n\u001b[1;32m---> 27\u001b[1;33m             \u001b[1;34mf'Precipitation value must be int or float: {precipitation}'\u001b[0m\u001b[1;33m\u001b[0m\u001b[1;33m\u001b[0m\u001b[0m\n\u001b[0m\u001b[0;32m     28\u001b[0m         )\n\u001b[0;32m     29\u001b[0m \u001b[1;33m\u001b[0m\u001b[0m\n",
      "\u001b[1;31mTypeError\u001b[0m: Precipitation value must be int or float: 95"
     ]
    }
   ],
   "source": [
    "check.check_precipitation(precipitation=\"95\")"
   ]
  },
  {
   "cell_type": "markdown",
   "metadata": {},
   "source": [
    "#### Check if curve number is valid"
   ]
  },
  {
   "cell_type": "code",
   "execution_count": 8,
   "metadata": {},
   "outputs": [],
   "source": [
    "check.check_curve_number(curve_number=95.5)"
   ]
  },
  {
   "cell_type": "code",
   "execution_count": 9,
   "metadata": {},
   "outputs": [
    {
     "ename": "ValueError",
     "evalue": "Curve number must be between 0 to 100: -95.5",
     "output_type": "error",
     "traceback": [
      "\u001b[1;31m---------------------------------------------------------------------------\u001b[0m",
      "\u001b[1;31mValueError\u001b[0m                                Traceback (most recent call last)",
      "\u001b[1;32m~\\AppData\\Local\\Temp\\ipykernel_3568\\2055400293.py\u001b[0m in \u001b[0;36m<module>\u001b[1;34m\u001b[0m\n\u001b[1;32m----> 1\u001b[1;33m \u001b[0mcheck\u001b[0m\u001b[1;33m.\u001b[0m\u001b[0mcheck_curve_number\u001b[0m\u001b[1;33m(\u001b[0m\u001b[0mcurve_number\u001b[0m\u001b[1;33m=\u001b[0m\u001b[1;33m-\u001b[0m\u001b[1;36m95.5\u001b[0m\u001b[1;33m)\u001b[0m\u001b[1;33m\u001b[0m\u001b[1;33m\u001b[0m\u001b[0m\n\u001b[0m",
      "\u001b[1;32md:\\javad\\Documents\\Research\\Water Balance\\personal\\PrimarySurfaceFlow\\modules\\check.py\u001b[0m in \u001b[0;36mcheck_curve_number\u001b[1;34m(curve_number)\u001b[0m\n\u001b[0;32m     56\u001b[0m     \u001b[1;32mif\u001b[0m \u001b[0mlt\u001b[0m\u001b[1;33m(\u001b[0m\u001b[0mcurve_number\u001b[0m\u001b[1;33m,\u001b[0m \u001b[1;36m0\u001b[0m\u001b[1;33m)\u001b[0m \u001b[1;32mor\u001b[0m \u001b[0mgt\u001b[0m\u001b[1;33m(\u001b[0m\u001b[0mcurve_number\u001b[0m\u001b[1;33m,\u001b[0m \u001b[1;36m100\u001b[0m\u001b[1;33m)\u001b[0m\u001b[1;33m:\u001b[0m\u001b[1;33m\u001b[0m\u001b[1;33m\u001b[0m\u001b[0m\n\u001b[0;32m     57\u001b[0m         raise ValueError(\n\u001b[1;32m---> 58\u001b[1;33m             \u001b[1;34mf'Curve number must be between 0 to 100: {curve_number}'\u001b[0m\u001b[1;33m\u001b[0m\u001b[1;33m\u001b[0m\u001b[0m\n\u001b[0m\u001b[0;32m     59\u001b[0m         )\n\u001b[0;32m     60\u001b[0m \u001b[1;33m\u001b[0m\u001b[0m\n",
      "\u001b[1;31mValueError\u001b[0m: Curve number must be between 0 to 100: -95.5"
     ]
    }
   ],
   "source": [
    "check.check_curve_number(curve_number=-95.5)"
   ]
  },
  {
   "cell_type": "code",
   "execution_count": 10,
   "metadata": {},
   "outputs": [
    {
     "ename": "TypeError",
     "evalue": "Curve number must be int or float: 95.5",
     "output_type": "error",
     "traceback": [
      "\u001b[1;31m---------------------------------------------------------------------------\u001b[0m",
      "\u001b[1;31mTypeError\u001b[0m                                 Traceback (most recent call last)",
      "\u001b[1;32m~\\AppData\\Local\\Temp\\ipykernel_3568\\3306752712.py\u001b[0m in \u001b[0;36m<module>\u001b[1;34m\u001b[0m\n\u001b[1;32m----> 1\u001b[1;33m \u001b[0mcheck\u001b[0m\u001b[1;33m.\u001b[0m\u001b[0mcheck_curve_number\u001b[0m\u001b[1;33m(\u001b[0m\u001b[0mcurve_number\u001b[0m\u001b[1;33m=\u001b[0m\u001b[1;34m\"95.5\"\u001b[0m\u001b[1;33m)\u001b[0m\u001b[1;33m\u001b[0m\u001b[1;33m\u001b[0m\u001b[0m\n\u001b[0m",
      "\u001b[1;32md:\\javad\\Documents\\Research\\Water Balance\\personal\\PrimarySurfaceFlow\\modules\\check.py\u001b[0m in \u001b[0;36mcheck_curve_number\u001b[1;34m(curve_number)\u001b[0m\n\u001b[0;32m     51\u001b[0m     \u001b[1;32mif\u001b[0m \u001b[1;32mnot\u001b[0m \u001b[0misinstance\u001b[0m\u001b[1;33m(\u001b[0m\u001b[0mcurve_number\u001b[0m\u001b[1;33m,\u001b[0m \u001b[1;33m(\u001b[0m\u001b[0mint\u001b[0m\u001b[1;33m,\u001b[0m \u001b[0mfloat\u001b[0m\u001b[1;33m)\u001b[0m\u001b[1;33m)\u001b[0m\u001b[1;33m:\u001b[0m\u001b[1;33m\u001b[0m\u001b[1;33m\u001b[0m\u001b[0m\n\u001b[0;32m     52\u001b[0m         raise TypeError(\n\u001b[1;32m---> 53\u001b[1;33m             \u001b[1;34mf'Curve number must be int or float: {curve_number}'\u001b[0m\u001b[1;33m\u001b[0m\u001b[1;33m\u001b[0m\u001b[0m\n\u001b[0m\u001b[0;32m     54\u001b[0m         )\n\u001b[0;32m     55\u001b[0m \u001b[1;33m\u001b[0m\u001b[0m\n",
      "\u001b[1;31mTypeError\u001b[0m: Curve number must be int or float: 95.5"
     ]
    }
   ],
   "source": [
    "check.check_curve_number(curve_number=\"95.5\")"
   ]
  },
  {
   "cell_type": "code",
   "execution_count": 11,
   "metadata": {},
   "outputs": [
    {
     "ename": "ValueError",
     "evalue": "Curve number must be between 0 to 100: 195.5",
     "output_type": "error",
     "traceback": [
      "\u001b[1;31m---------------------------------------------------------------------------\u001b[0m",
      "\u001b[1;31mValueError\u001b[0m                                Traceback (most recent call last)",
      "\u001b[1;32m~\\AppData\\Local\\Temp\\ipykernel_3568\\3840712204.py\u001b[0m in \u001b[0;36m<module>\u001b[1;34m\u001b[0m\n\u001b[1;32m----> 1\u001b[1;33m \u001b[0mcheck\u001b[0m\u001b[1;33m.\u001b[0m\u001b[0mcheck_curve_number\u001b[0m\u001b[1;33m(\u001b[0m\u001b[0mcurve_number\u001b[0m\u001b[1;33m=\u001b[0m\u001b[1;36m195.5\u001b[0m\u001b[1;33m)\u001b[0m\u001b[1;33m\u001b[0m\u001b[1;33m\u001b[0m\u001b[0m\n\u001b[0m",
      "\u001b[1;32md:\\javad\\Documents\\Research\\Water Balance\\personal\\PrimarySurfaceFlow\\modules\\check.py\u001b[0m in \u001b[0;36mcheck_curve_number\u001b[1;34m(curve_number)\u001b[0m\n\u001b[0;32m     56\u001b[0m     \u001b[1;32mif\u001b[0m \u001b[0mlt\u001b[0m\u001b[1;33m(\u001b[0m\u001b[0mcurve_number\u001b[0m\u001b[1;33m,\u001b[0m \u001b[1;36m0\u001b[0m\u001b[1;33m)\u001b[0m \u001b[1;32mor\u001b[0m \u001b[0mgt\u001b[0m\u001b[1;33m(\u001b[0m\u001b[0mcurve_number\u001b[0m\u001b[1;33m,\u001b[0m \u001b[1;36m100\u001b[0m\u001b[1;33m)\u001b[0m\u001b[1;33m:\u001b[0m\u001b[1;33m\u001b[0m\u001b[1;33m\u001b[0m\u001b[0m\n\u001b[0;32m     57\u001b[0m         raise ValueError(\n\u001b[1;32m---> 58\u001b[1;33m             \u001b[1;34mf'Curve number must be between 0 to 100: {curve_number}'\u001b[0m\u001b[1;33m\u001b[0m\u001b[1;33m\u001b[0m\u001b[0m\n\u001b[0m\u001b[0;32m     59\u001b[0m         )\n\u001b[0;32m     60\u001b[0m \u001b[1;33m\u001b[0m\u001b[0m\n",
      "\u001b[1;31mValueError\u001b[0m: Curve number must be between 0 to 100: 195.5"
     ]
    }
   ],
   "source": [
    "check.check_curve_number(curve_number=195.5)"
   ]
  },
  {
   "cell_type": "markdown",
   "metadata": {},
   "source": [
    "#### Check if Runoff source area is valid"
   ]
  },
  {
   "cell_type": "code",
   "execution_count": 12,
   "metadata": {},
   "outputs": [],
   "source": [
    "check.check_rsa(rsa=True)"
   ]
  },
  {
   "cell_type": "code",
   "execution_count": 13,
   "metadata": {},
   "outputs": [
    {
     "ename": "TypeError",
     "evalue": "RSA must be boolean: 0",
     "output_type": "error",
     "traceback": [
      "\u001b[1;31m---------------------------------------------------------------------------\u001b[0m",
      "\u001b[1;31mTypeError\u001b[0m                                 Traceback (most recent call last)",
      "\u001b[1;32m~\\AppData\\Local\\Temp\\ipykernel_3568\\3431598674.py\u001b[0m in \u001b[0;36m<module>\u001b[1;34m\u001b[0m\n\u001b[1;32m----> 1\u001b[1;33m \u001b[0mcheck\u001b[0m\u001b[1;33m.\u001b[0m\u001b[0mcheck_rsa\u001b[0m\u001b[1;33m(\u001b[0m\u001b[0mrsa\u001b[0m\u001b[1;33m=\u001b[0m\u001b[1;36m0\u001b[0m\u001b[1;33m)\u001b[0m\u001b[1;33m\u001b[0m\u001b[1;33m\u001b[0m\u001b[0m\n\u001b[0m",
      "\u001b[1;32md:\\javad\\Documents\\Research\\Water Balance\\personal\\PrimarySurfaceFlow\\modules\\check.py\u001b[0m in \u001b[0;36mcheck_rsa\u001b[1;34m(rsa)\u001b[0m\n\u001b[0;32m     77\u001b[0m     \u001b[1;32mif\u001b[0m \u001b[1;32mnot\u001b[0m \u001b[0misinstance\u001b[0m\u001b[1;33m(\u001b[0m\u001b[0mrsa\u001b[0m\u001b[1;33m,\u001b[0m \u001b[0mbool\u001b[0m\u001b[1;33m)\u001b[0m\u001b[1;33m:\u001b[0m\u001b[1;33m\u001b[0m\u001b[1;33m\u001b[0m\u001b[0m\n\u001b[0;32m     78\u001b[0m         raise TypeError(\n\u001b[1;32m---> 79\u001b[1;33m             \u001b[1;34mf'RSA must be boolean: {rsa}'\u001b[0m\u001b[1;33m\u001b[0m\u001b[1;33m\u001b[0m\u001b[0m\n\u001b[0m\u001b[0;32m     80\u001b[0m         )\n\u001b[0;32m     81\u001b[0m \u001b[1;33m\u001b[0m\u001b[0m\n",
      "\u001b[1;31mTypeError\u001b[0m: RSA must be boolean: 0"
     ]
    }
   ],
   "source": [
    "check.check_rsa(rsa=0)"
   ]
  },
  {
   "cell_type": "code",
   "execution_count": 14,
   "metadata": {},
   "outputs": [
    {
     "ename": "TypeError",
     "evalue": "RSA must be boolean: 0",
     "output_type": "error",
     "traceback": [
      "\u001b[1;31m---------------------------------------------------------------------------\u001b[0m",
      "\u001b[1;31mTypeError\u001b[0m                                 Traceback (most recent call last)",
      "\u001b[1;32m~\\AppData\\Local\\Temp\\ipykernel_3568\\3161926473.py\u001b[0m in \u001b[0;36m<module>\u001b[1;34m\u001b[0m\n\u001b[1;32m----> 1\u001b[1;33m \u001b[0mcheck\u001b[0m\u001b[1;33m.\u001b[0m\u001b[0mcheck_rsa\u001b[0m\u001b[1;33m(\u001b[0m\u001b[0mrsa\u001b[0m\u001b[1;33m=\u001b[0m\u001b[1;34m\"0\"\u001b[0m\u001b[1;33m)\u001b[0m\u001b[1;33m\u001b[0m\u001b[1;33m\u001b[0m\u001b[0m\n\u001b[0m",
      "\u001b[1;32md:\\javad\\Documents\\Research\\Water Balance\\personal\\PrimarySurfaceFlow\\modules\\check.py\u001b[0m in \u001b[0;36mcheck_rsa\u001b[1;34m(rsa)\u001b[0m\n\u001b[0;32m     77\u001b[0m     \u001b[1;32mif\u001b[0m \u001b[1;32mnot\u001b[0m \u001b[0misinstance\u001b[0m\u001b[1;33m(\u001b[0m\u001b[0mrsa\u001b[0m\u001b[1;33m,\u001b[0m \u001b[0mbool\u001b[0m\u001b[1;33m)\u001b[0m\u001b[1;33m:\u001b[0m\u001b[1;33m\u001b[0m\u001b[1;33m\u001b[0m\u001b[0m\n\u001b[0;32m     78\u001b[0m         raise TypeError(\n\u001b[1;32m---> 79\u001b[1;33m             \u001b[1;34mf'RSA must be boolean: {rsa}'\u001b[0m\u001b[1;33m\u001b[0m\u001b[1;33m\u001b[0m\u001b[0m\n\u001b[0m\u001b[0;32m     80\u001b[0m         )\n\u001b[0;32m     81\u001b[0m \u001b[1;33m\u001b[0m\u001b[0m\n",
      "\u001b[1;31mTypeError\u001b[0m: RSA must be boolean: 0"
     ]
    }
   ],
   "source": [
    "check.check_rsa(rsa=\"0\")"
   ]
  },
  {
   "cell_type": "markdown",
   "metadata": {},
   "source": [
    "#### Check if Antecedent precipitation is valid"
   ]
  },
  {
   "cell_type": "code",
   "execution_count": 15,
   "metadata": {},
   "outputs": [],
   "source": [
    "check.check_antecedent_precipitation(antecedent_precipitation=20)"
   ]
  },
  {
   "cell_type": "code",
   "execution_count": 16,
   "metadata": {},
   "outputs": [
    {
     "ename": "ValueError",
     "evalue": "Antecedent precipitation must be greater than zero: -20",
     "output_type": "error",
     "traceback": [
      "\u001b[1;31m---------------------------------------------------------------------------\u001b[0m",
      "\u001b[1;31mValueError\u001b[0m                                Traceback (most recent call last)",
      "\u001b[1;32m~\\AppData\\Local\\Temp\\ipykernel_3568\\936839739.py\u001b[0m in \u001b[0;36m<module>\u001b[1;34m\u001b[0m\n\u001b[1;32m----> 1\u001b[1;33m \u001b[0mcheck\u001b[0m\u001b[1;33m.\u001b[0m\u001b[0mcheck_antecedent_precipitation\u001b[0m\u001b[1;33m(\u001b[0m\u001b[0mantecedent_precipitation\u001b[0m\u001b[1;33m=\u001b[0m\u001b[1;33m-\u001b[0m\u001b[1;36m20\u001b[0m\u001b[1;33m)\u001b[0m\u001b[1;33m\u001b[0m\u001b[1;33m\u001b[0m\u001b[0m\n\u001b[0m",
      "\u001b[1;32md:\\javad\\Documents\\Research\\Water Balance\\personal\\PrimarySurfaceFlow\\modules\\check.py\u001b[0m in \u001b[0;36mcheck_antecedent_precipitation\u001b[1;34m(antecedent_precipitation)\u001b[0m\n\u001b[0;32m    103\u001b[0m     \u001b[1;32mif\u001b[0m \u001b[0mlt\u001b[0m\u001b[1;33m(\u001b[0m\u001b[0mantecedent_precipitation\u001b[0m\u001b[1;33m,\u001b[0m \u001b[1;36m0\u001b[0m\u001b[1;33m)\u001b[0m\u001b[1;33m:\u001b[0m\u001b[1;33m\u001b[0m\u001b[1;33m\u001b[0m\u001b[0m\n\u001b[0;32m    104\u001b[0m         raise ValueError(\n\u001b[1;32m--> 105\u001b[1;33m             \u001b[1;34mf'Antecedent precipitation must be greater than zero: {antecedent_precipitation}'\u001b[0m\u001b[1;33m\u001b[0m\u001b[1;33m\u001b[0m\u001b[0m\n\u001b[0m\u001b[0;32m    106\u001b[0m         )\n\u001b[0;32m    107\u001b[0m \u001b[1;33m\u001b[0m\u001b[0m\n",
      "\u001b[1;31mValueError\u001b[0m: Antecedent precipitation must be greater than zero: -20"
     ]
    }
   ],
   "source": [
    "check.check_antecedent_precipitation(antecedent_precipitation=-20)"
   ]
  },
  {
   "cell_type": "code",
   "execution_count": 17,
   "metadata": {},
   "outputs": [
    {
     "ename": "TypeError",
     "evalue": "Antecedent precipitation must be int or float: 20",
     "output_type": "error",
     "traceback": [
      "\u001b[1;31m---------------------------------------------------------------------------\u001b[0m",
      "\u001b[1;31mTypeError\u001b[0m                                 Traceback (most recent call last)",
      "\u001b[1;32m~\\AppData\\Local\\Temp\\ipykernel_3568\\1845612184.py\u001b[0m in \u001b[0;36m<module>\u001b[1;34m\u001b[0m\n\u001b[1;32m----> 1\u001b[1;33m \u001b[0mcheck\u001b[0m\u001b[1;33m.\u001b[0m\u001b[0mcheck_antecedent_precipitation\u001b[0m\u001b[1;33m(\u001b[0m\u001b[0mantecedent_precipitation\u001b[0m\u001b[1;33m=\u001b[0m\u001b[1;34m\"20\"\u001b[0m\u001b[1;33m)\u001b[0m\u001b[1;33m\u001b[0m\u001b[1;33m\u001b[0m\u001b[0m\n\u001b[0m",
      "\u001b[1;32md:\\javad\\Documents\\Research\\Water Balance\\personal\\PrimarySurfaceFlow\\modules\\check.py\u001b[0m in \u001b[0;36mcheck_antecedent_precipitation\u001b[1;34m(antecedent_precipitation)\u001b[0m\n\u001b[0;32m     98\u001b[0m     \u001b[1;32mif\u001b[0m \u001b[1;32mnot\u001b[0m \u001b[0misinstance\u001b[0m\u001b[1;33m(\u001b[0m\u001b[0mantecedent_precipitation\u001b[0m\u001b[1;33m,\u001b[0m \u001b[1;33m(\u001b[0m\u001b[0mint\u001b[0m\u001b[1;33m,\u001b[0m \u001b[0mfloat\u001b[0m\u001b[1;33m)\u001b[0m\u001b[1;33m)\u001b[0m\u001b[1;33m:\u001b[0m\u001b[1;33m\u001b[0m\u001b[1;33m\u001b[0m\u001b[0m\n\u001b[0;32m     99\u001b[0m         raise TypeError(\n\u001b[1;32m--> 100\u001b[1;33m             \u001b[1;34mf'Antecedent precipitation must be int or float: {antecedent_precipitation}'\u001b[0m\u001b[1;33m\u001b[0m\u001b[1;33m\u001b[0m\u001b[0m\n\u001b[0m\u001b[0;32m    101\u001b[0m         )\n\u001b[0;32m    102\u001b[0m \u001b[1;33m\u001b[0m\u001b[0m\n",
      "\u001b[1;31mTypeError\u001b[0m: Antecedent precipitation must be int or float: 20"
     ]
    }
   ],
   "source": [
    "check.check_antecedent_precipitation(antecedent_precipitation=\"20\")"
   ]
  },
  {
   "cell_type": "markdown",
   "metadata": {},
   "source": [
    "#### Check if is_growing_season is valid"
   ]
  },
  {
   "cell_type": "code",
   "execution_count": 18,
   "metadata": {},
   "outputs": [],
   "source": [
    "check.check_is_growing_season(is_growing_season=False)"
   ]
  },
  {
   "cell_type": "code",
   "execution_count": 19,
   "metadata": {},
   "outputs": [
    {
     "ename": "TypeError",
     "evalue": "is_growing_season must be boolean: 1",
     "output_type": "error",
     "traceback": [
      "\u001b[1;31m---------------------------------------------------------------------------\u001b[0m",
      "\u001b[1;31mTypeError\u001b[0m                                 Traceback (most recent call last)",
      "\u001b[1;32m~\\AppData\\Local\\Temp\\ipykernel_3568\\1272192036.py\u001b[0m in \u001b[0;36m<module>\u001b[1;34m\u001b[0m\n\u001b[1;32m----> 1\u001b[1;33m \u001b[0mcheck\u001b[0m\u001b[1;33m.\u001b[0m\u001b[0mcheck_is_growing_season\u001b[0m\u001b[1;33m(\u001b[0m\u001b[0mis_growing_season\u001b[0m\u001b[1;33m=\u001b[0m\u001b[1;36m1\u001b[0m\u001b[1;33m)\u001b[0m\u001b[1;33m\u001b[0m\u001b[1;33m\u001b[0m\u001b[0m\n\u001b[0m",
      "\u001b[1;32md:\\javad\\Documents\\Research\\Water Balance\\personal\\PrimarySurfaceFlow\\modules\\check.py\u001b[0m in \u001b[0;36mcheck_is_growing_season\u001b[1;34m(is_growing_season)\u001b[0m\n\u001b[0;32m    124\u001b[0m     \u001b[1;32mif\u001b[0m \u001b[1;32mnot\u001b[0m \u001b[0misinstance\u001b[0m\u001b[1;33m(\u001b[0m\u001b[0mis_growing_season\u001b[0m\u001b[1;33m,\u001b[0m \u001b[0mbool\u001b[0m\u001b[1;33m)\u001b[0m\u001b[1;33m:\u001b[0m\u001b[1;33m\u001b[0m\u001b[1;33m\u001b[0m\u001b[0m\n\u001b[0;32m    125\u001b[0m         raise TypeError(\n\u001b[1;32m--> 126\u001b[1;33m             \u001b[1;34mf'is_growing_season must be boolean: {is_growing_season}'\u001b[0m\u001b[1;33m\u001b[0m\u001b[1;33m\u001b[0m\u001b[0m\n\u001b[0m\u001b[0;32m    127\u001b[0m         )\n",
      "\u001b[1;31mTypeError\u001b[0m: is_growing_season must be boolean: 1"
     ]
    }
   ],
   "source": [
    "check.check_is_growing_season(is_growing_season=1)"
   ]
  },
  {
   "cell_type": "code",
   "execution_count": null,
   "metadata": {},
   "outputs": [],
   "source": [
    "check.check_is_growing_season(is_growing_season=\"1\")"
   ]
  },
  {
   "cell_type": "markdown",
   "metadata": {},
   "source": [
    "## Primary Surface Flow"
   ]
  },
  {
   "cell_type": "code",
   "execution_count": 20,
   "metadata": {},
   "outputs": [
    {
     "name": "stdout",
     "output_type": "stream",
     "text": [
      "Calculated runoff: 73.8\n",
      "Calculated underground runoff: 12.6\n"
     ]
    }
   ],
   "source": [
    "# Tested against worked example from,\n",
    "# ICAR-Indian Agricultural Statistics Research Institute (IASRI), UG Courses - Agricultural Engineering, Lesson 6. Runoff Estimation,\n",
    "# http://ecoursesonline.iasri.res.in/mod/page/view.php?id=2174\n",
    "\n",
    "\n",
    "# print(calculate_potential_retention(95.6))\n",
    "calculated_runoff = psf.calculate_runoff(precipitation=86.4 ,curve_number=95.6, rsa=True)[0].__round__(2)\n",
    "calculated_under_runoff = psf.calculate_runoff(precipitation=86.4 ,curve_number=95.6, rsa=True)[1].__round__(2)\n",
    "\n",
    "print(f\"Calculated runoff: {calculated_runoff}\")\n",
    "print(f\"Calculated underground runoff: {calculated_under_runoff}\")"
   ]
  },
  {
   "cell_type": "code",
   "execution_count": 22,
   "metadata": {},
   "outputs": [
    {
     "name": "stdout",
     "output_type": "stream",
     "text": [
      "Calculated runoff: 25.1\n",
      "Calculated underground runoff: 69.9\n"
     ]
    }
   ],
   "source": [
    "# Tested against worked example from,\n",
    "# \"Design Manual, Chapter 2 - Stormwater, 2B - Urban Hydrology and Runoff\",\n",
    "# https://intrans.iastate.edu/app/uploads/sites/15/2020/03/2B-6.pdf\n",
    "\n",
    "calculated_runoff = psf.calculate_runoff(precipitation=94.996 ,curve_number=67, rsa=True)[0].__round__(2)\n",
    "calculated_under_runoff = psf.calculate_runoff(precipitation=94.996 ,curve_number=67, rsa=True)[1].__round__(2)\n",
    "\n",
    "print(f\"Calculated runoff: {calculated_runoff}\")\n",
    "print(f\"Calculated underground runoff: {calculated_under_runoff}\")"
   ]
  },
  {
   "cell_type": "code",
   "execution_count": 23,
   "metadata": {},
   "outputs": [
    {
     "name": "stdout",
     "output_type": "stream",
     "text": [
      "Calculated runoff: 61.23\n",
      "Calculated underground runoff: 8.62\n"
     ]
    }
   ],
   "source": [
    "# https://pepasspoint.com/water-resources-problem-solution-calculating-the-amount-of-runoff\n",
    "# A 20-acre suburban commercial lot has stores and parking lots.\n",
    "# The corresponding NRCS curve number is 97.\n",
    "# What is most nearly the amount of runoff created after a 2.75″ rain event over the course of 24 hours?\n",
    "\n",
    "calculated_runoff = psf.calculate_runoff(precipitation=69.85 ,curve_number=97, rsa=True)[0].__round__(2)\n",
    "calculated_under_runoff = psf.calculate_runoff(precipitation=69.85 ,curve_number=97, rsa=True)[1].__round__(2)\n",
    "\n",
    "print(f\"Calculated runoff: {calculated_runoff}\")\n",
    "print(f\"Calculated underground runoff: {calculated_under_runoff}\")"
   ]
  }
 ],
 "metadata": {
  "interpreter": {
   "hash": "ce0d6df2b79cf263b80d41dec7a0877a175c99d90a211d69fc56341c368dacb0"
  },
  "kernelspec": {
   "display_name": "Python 3.7.4 ('WB_project')",
   "language": "python",
   "name": "python3"
  },
  "language_info": {
   "codemirror_mode": {
    "name": "ipython",
    "version": 3
   },
   "file_extension": ".py",
   "mimetype": "text/x-python",
   "name": "python",
   "nbconvert_exporter": "python",
   "pygments_lexer": "ipython3",
   "version": "3.7.4"
  },
  "orig_nbformat": 4
 },
 "nbformat": 4,
 "nbformat_minor": 2
}
