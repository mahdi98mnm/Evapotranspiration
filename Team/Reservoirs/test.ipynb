{
 "cells": [
  {
   "cell_type": "markdown",
   "metadata": {},
   "source": [
    "## The Current Working Directory"
   ]
  },
  {
   "cell_type": "code",
   "execution_count": 1,
   "metadata": {},
   "outputs": [
    {
     "data": {
      "text/plain": [
       "'d:\\\\WaterBalance\\\\codeExample'"
      ]
     },
     "execution_count": 1,
     "metadata": {},
     "output_type": "execute_result"
    }
   ],
   "source": [
    "pwd\n"
   ]
  },
  {
   "cell_type": "markdown",
   "metadata": {},
   "source": [
    "## Import Python Modules"
   ]
  },
  {
   "cell_type": "code",
   "execution_count": 2,
   "metadata": {},
   "outputs": [
    {
     "name": "stdout",
     "output_type": "stream",
     "text": [
      "64053828.314951956\n"
     ]
    }
   ],
   "source": [
    "import check\n",
    "import func\n",
    "import balance"
   ]
  },
  {
   "cell_type": "markdown",
   "metadata": {},
   "source": [
    "## Check"
   ]
  },
  {
   "cell_type": "markdown",
   "metadata": {},
   "source": [
    "### check Height value be possitive"
   ]
  },
  {
   "cell_type": "code",
   "execution_count": 3,
   "metadata": {},
   "outputs": [
    {
     "ename": "ValueError",
     "evalue": "Height should be grater than zero",
     "output_type": "error",
     "traceback": [
      "\u001b[1;31m---------------------------------------------------------------------------\u001b[0m",
      "\u001b[1;31mValueError\u001b[0m                                Traceback (most recent call last)",
      "Input \u001b[1;32mIn [3]\u001b[0m, in \u001b[0;36m<cell line: 2>\u001b[1;34m()\u001b[0m\n\u001b[0;32m      1\u001b[0m check\u001b[39m.\u001b[39mcheck_not_negative(\u001b[39m990\u001b[39m)\n\u001b[1;32m----> 2\u001b[0m check\u001b[39m.\u001b[39;49mcheck_not_negative(\u001b[39m-\u001b[39;49m\u001b[39m990\u001b[39;49m)\n",
      "File \u001b[1;32md:\\WaterBalance\\codeExample\\check.py:21\u001b[0m, in \u001b[0;36mcheck_not_negative\u001b[1;34m(Height)\u001b[0m\n\u001b[0;32m      <a href='file:///d%3A/WaterBalance/codeExample/check.py?line=7'>8</a>\u001b[0m \u001b[39m\"\"\"\u001b[39;00m\n\u001b[0;32m      <a href='file:///d%3A/WaterBalance/codeExample/check.py?line=8'>9</a>\u001b[0m \u001b[39mDescription\u001b[39;00m\n\u001b[0;32m     <a href='file:///d%3A/WaterBalance/codeExample/check.py?line=9'>10</a>\u001b[0m \u001b[39m-----------\u001b[39;00m\n\u001b[1;32m   (...)\u001b[0m\n\u001b[0;32m     <a href='file:///d%3A/WaterBalance/codeExample/check.py?line=16'>17</a>\u001b[0m \u001b[39m   in m\u001b[39;00m\n\u001b[0;32m     <a href='file:///d%3A/WaterBalance/codeExample/check.py?line=17'>18</a>\u001b[0m \u001b[39m\"\"\"\u001b[39;00m\n\u001b[0;32m     <a href='file:///d%3A/WaterBalance/codeExample/check.py?line=19'>20</a>\u001b[0m \u001b[39mif\u001b[39;00m Height \u001b[39m<\u001b[39m \u001b[39m0\u001b[39m :\n\u001b[1;32m---> <a href='file:///d%3A/WaterBalance/codeExample/check.py?line=20'>21</a>\u001b[0m     \u001b[39mraise\u001b[39;00m \u001b[39mValueError\u001b[39;00m(\u001b[39m\"\u001b[39m\u001b[39mHeight should be grater than zero\u001b[39m\u001b[39m\"\u001b[39m)\n",
      "\u001b[1;31mValueError\u001b[0m: Height should be grater than zero"
     ]
    }
   ],
   "source": [
    "check.check_not_negative(990)\n",
    "check.check_not_negative(-990)\n"
   ]
  },
  {
   "cell_type": "markdown",
   "metadata": {},
   "source": [
    "### check maximum Height be greater than minimum Height"
   ]
  },
  {
   "cell_type": "code",
   "execution_count": 4,
   "metadata": {},
   "outputs": [
    {
     "ename": "ValueError",
     "evalue": "maximum height must be greater than minimum height",
     "output_type": "error",
     "traceback": [
      "\u001b[1;31m---------------------------------------------------------------------------\u001b[0m",
      "\u001b[1;31mValueError\u001b[0m                                Traceback (most recent call last)",
      "Input \u001b[1;32mIn [4]\u001b[0m, in \u001b[0;36m<cell line: 2>\u001b[1;34m()\u001b[0m\n\u001b[0;32m      1\u001b[0m check\u001b[39m.\u001b[39mcheck_max_min(\u001b[39m1050\u001b[39m, \u001b[39m968\u001b[39m)\n\u001b[1;32m----> 2\u001b[0m check\u001b[39m.\u001b[39;49mcheck_max_min(\u001b[39m968\u001b[39;49m, \u001b[39m1050\u001b[39;49m)\n",
      "File \u001b[1;32md:\\WaterBalance\\codeExample\\check.py:39\u001b[0m, in \u001b[0;36mcheck_max_min\u001b[1;34m(Height_max, Height_min)\u001b[0m\n\u001b[0;32m     <a href='file:///d%3A/WaterBalance/codeExample/check.py?line=26'>27</a>\u001b[0m \u001b[39m\"\"\"\u001b[39;00m\n\u001b[0;32m     <a href='file:///d%3A/WaterBalance/codeExample/check.py?line=27'>28</a>\u001b[0m \u001b[39mDescription\u001b[39;00m\n\u001b[0;32m     <a href='file:///d%3A/WaterBalance/codeExample/check.py?line=28'>29</a>\u001b[0m \u001b[39m-----------\u001b[39;00m\n\u001b[1;32m   (...)\u001b[0m\n\u001b[0;32m     <a href='file:///d%3A/WaterBalance/codeExample/check.py?line=34'>35</a>\u001b[0m \u001b[39m   in m\u001b[39;00m\n\u001b[0;32m     <a href='file:///d%3A/WaterBalance/codeExample/check.py?line=35'>36</a>\u001b[0m \u001b[39m\"\"\"\u001b[39;00m\n\u001b[0;32m     <a href='file:///d%3A/WaterBalance/codeExample/check.py?line=37'>38</a>\u001b[0m \u001b[39mif\u001b[39;00m Height_max \u001b[39m<\u001b[39m Height_min :\n\u001b[1;32m---> <a href='file:///d%3A/WaterBalance/codeExample/check.py?line=38'>39</a>\u001b[0m     \u001b[39mraise\u001b[39;00m \u001b[39mValueError\u001b[39;00m(\u001b[39m\"\u001b[39m\u001b[39mmaximum height must be greater than minimum height\u001b[39m\u001b[39m\"\u001b[39m)\n",
      "\u001b[1;31mValueError\u001b[0m: maximum height must be greater than minimum height"
     ]
    }
   ],
   "source": [
    "check.check_max_min(1050, 968)\n",
    "check.check_max_min(968, 1050)"
   ]
  },
  {
   "cell_type": "markdown",
   "metadata": {},
   "source": [
    "### check constant coefficient p"
   ]
  },
  {
   "cell_type": "code",
   "execution_count": 5,
   "metadata": {},
   "outputs": [
    {
     "ename": "ValueError",
     "evalue": "p value must be greater than 1: -1",
     "output_type": "error",
     "traceback": [
      "\u001b[1;31m---------------------------------------------------------------------------\u001b[0m",
      "\u001b[1;31mValueError\u001b[0m                                Traceback (most recent call last)",
      "Input \u001b[1;32mIn [5]\u001b[0m, in \u001b[0;36m<cell line: 2>\u001b[1;34m()\u001b[0m\n\u001b[0;32m      1\u001b[0m check\u001b[39m.\u001b[39mcheck_Value_p(\u001b[39m1\u001b[39m)\n\u001b[1;32m----> 2\u001b[0m check\u001b[39m.\u001b[39;49mcheck_Value_p(\u001b[39m-\u001b[39;49m\u001b[39m1\u001b[39;49m)\n",
      "File \u001b[1;32md:\\WaterBalance\\codeExample\\check.py:57\u001b[0m, in \u001b[0;36mcheck_Value_p\u001b[1;34m(p)\u001b[0m\n\u001b[0;32m     <a href='file:///d%3A/WaterBalance/codeExample/check.py?line=45'>46</a>\u001b[0m \u001b[39m\"\"\"\u001b[39;00m\n\u001b[0;32m     <a href='file:///d%3A/WaterBalance/codeExample/check.py?line=46'>47</a>\u001b[0m \u001b[39mDescription\u001b[39;00m\n\u001b[0;32m     <a href='file:///d%3A/WaterBalance/codeExample/check.py?line=47'>48</a>\u001b[0m \u001b[39m-----------\u001b[39;00m\n\u001b[1;32m   (...)\u001b[0m\n\u001b[0;32m     <a href='file:///d%3A/WaterBalance/codeExample/check.py?line=52'>53</a>\u001b[0m \u001b[39m   a constant parameter\u001b[39;00m\n\u001b[0;32m     <a href='file:///d%3A/WaterBalance/codeExample/check.py?line=53'>54</a>\u001b[0m \u001b[39m\"\"\"\u001b[39;00m\n\u001b[0;32m     <a href='file:///d%3A/WaterBalance/codeExample/check.py?line=55'>56</a>\u001b[0m \u001b[39mif\u001b[39;00m \u001b[39mnot\u001b[39;00m \u001b[39m1\u001b[39m \u001b[39m<\u001b[39m\u001b[39m=\u001b[39m p :\n\u001b[1;32m---> <a href='file:///d%3A/WaterBalance/codeExample/check.py?line=56'>57</a>\u001b[0m     \u001b[39mraise\u001b[39;00m \u001b[39mValueError\u001b[39;00m(\n\u001b[0;32m     <a href='file:///d%3A/WaterBalance/codeExample/check.py?line=57'>58</a>\u001b[0m         \u001b[39mf\u001b[39m\u001b[39m'\u001b[39m\u001b[39mp value must be greater than 1: \u001b[39m\u001b[39m{\u001b[39;00mp\u001b[39m}\u001b[39;00m\u001b[39m'\u001b[39m\n\u001b[0;32m     <a href='file:///d%3A/WaterBalance/codeExample/check.py?line=58'>59</a>\u001b[0m     )\n",
      "\u001b[1;31mValueError\u001b[0m: p value must be greater than 1: -1"
     ]
    }
   ],
   "source": [
    "check.check_Value_p(1)\n",
    "check.check_Value_p(-1)"
   ]
  },
  {
   "cell_type": "markdown",
   "metadata": {},
   "source": [
    "### check constant coefficient a"
   ]
  },
  {
   "cell_type": "code",
   "execution_count": 6,
   "metadata": {},
   "outputs": [
    {
     "ename": "ValueError",
     "evalue": "a value must be greater than 0: -0.5",
     "output_type": "error",
     "traceback": [
      "\u001b[1;31m---------------------------------------------------------------------------\u001b[0m",
      "\u001b[1;31mValueError\u001b[0m                                Traceback (most recent call last)",
      "Input \u001b[1;32mIn [6]\u001b[0m, in \u001b[0;36m<cell line: 2>\u001b[1;34m()\u001b[0m\n\u001b[0;32m      1\u001b[0m check\u001b[39m.\u001b[39mcheck_Value_a(\u001b[39m0.5\u001b[39m)\n\u001b[1;32m----> 2\u001b[0m check\u001b[39m.\u001b[39;49mcheck_Value_a(\u001b[39m-\u001b[39;49m\u001b[39m0.5\u001b[39;49m)\n",
      "File \u001b[1;32md:\\WaterBalance\\codeExample\\check.py:76\u001b[0m, in \u001b[0;36mcheck_Value_a\u001b[1;34m(a)\u001b[0m\n\u001b[0;32m     <a href='file:///d%3A/WaterBalance/codeExample/check.py?line=64'>65</a>\u001b[0m \u001b[39m\"\"\"\u001b[39;00m\n\u001b[0;32m     <a href='file:///d%3A/WaterBalance/codeExample/check.py?line=65'>66</a>\u001b[0m \u001b[39mDescription\u001b[39;00m\n\u001b[0;32m     <a href='file:///d%3A/WaterBalance/codeExample/check.py?line=66'>67</a>\u001b[0m \u001b[39m-----------\u001b[39;00m\n\u001b[1;32m   (...)\u001b[0m\n\u001b[0;32m     <a href='file:///d%3A/WaterBalance/codeExample/check.py?line=71'>72</a>\u001b[0m \u001b[39m    a constant parameter\u001b[39;00m\n\u001b[0;32m     <a href='file:///d%3A/WaterBalance/codeExample/check.py?line=72'>73</a>\u001b[0m \u001b[39m\"\"\"\u001b[39;00m\n\u001b[0;32m     <a href='file:///d%3A/WaterBalance/codeExample/check.py?line=74'>75</a>\u001b[0m \u001b[39mif\u001b[39;00m \u001b[39mnot\u001b[39;00m \u001b[39m0\u001b[39m \u001b[39m<\u001b[39m\u001b[39m=\u001b[39m a :\n\u001b[1;32m---> <a href='file:///d%3A/WaterBalance/codeExample/check.py?line=75'>76</a>\u001b[0m     \u001b[39mraise\u001b[39;00m \u001b[39mValueError\u001b[39;00m(\n\u001b[0;32m     <a href='file:///d%3A/WaterBalance/codeExample/check.py?line=76'>77</a>\u001b[0m         \u001b[39mf\u001b[39m\u001b[39m'\u001b[39m\u001b[39ma value must be greater than 0: \u001b[39m\u001b[39m{\u001b[39;00ma\u001b[39m}\u001b[39;00m\u001b[39m'\u001b[39m\n\u001b[0;32m     <a href='file:///d%3A/WaterBalance/codeExample/check.py?line=77'>78</a>\u001b[0m     )\n",
      "\u001b[1;31mValueError\u001b[0m: a value must be greater than 0: -0.5"
     ]
    }
   ],
   "source": [
    "check.check_Value_a(0.5)\n",
    "check.check_Value_a(-0.5)"
   ]
  },
  {
   "cell_type": "markdown",
   "metadata": {},
   "source": [
    "## Secondary Functions"
   ]
  },
  {
   "cell_type": "markdown",
   "metadata": {},
   "source": [
    "### check Validation of Standard Height"
   ]
  },
  {
   "cell_type": "code",
   "execution_count": 7,
   "metadata": {},
   "outputs": [
    {
     "data": {
      "text/plain": [
       "0.2682926829268293"
      ]
     },
     "execution_count": 7,
     "metadata": {},
     "output_type": "execute_result"
    }
   ],
   "source": [
    "func.Height_Standard(990, 968, 1050)"
   ]
  },
  {
   "cell_type": "markdown",
   "metadata": {},
   "source": [
    "### check Validation of Area of Water"
   ]
  },
  {
   "cell_type": "code",
   "execution_count": 8,
   "metadata": {},
   "outputs": [
    {
     "ename": "TypeError",
     "evalue": "'float' object is not callable",
     "output_type": "error",
     "traceback": [
      "\u001b[1;31m---------------------------------------------------------------------------\u001b[0m",
      "\u001b[1;31mTypeError\u001b[0m                                 Traceback (most recent call last)",
      "Input \u001b[1;32mIn [8]\u001b[0m, in \u001b[0;36m<cell line: 1>\u001b[1;34m()\u001b[0m\n\u001b[1;32m----> 1\u001b[0m func\u001b[39m.\u001b[39;49mArea_Water(\u001b[39m990\u001b[39;49m, \u001b[39m968\u001b[39;49m, \u001b[39m1050\u001b[39;49m, \u001b[39m4700000\u001b[39;49m, \u001b[39m0.5\u001b[39;49m, \u001b[39m1.5\u001b[39;49m)\n",
      "File \u001b[1;32md:\\WaterBalance\\codeExample\\func.py:54\u001b[0m, in \u001b[0;36mArea_Water\u001b[1;34m(Height, Height_min, Height_max, Area_max, a, p)\u001b[0m\n\u001b[0;32m     <a href='file:///d%3A/WaterBalance/codeExample/func.py?line=50'>51</a>\u001b[0m check\u001b[39m.\u001b[39mcheck_Value_a(a)\n\u001b[0;32m     <a href='file:///d%3A/WaterBalance/codeExample/func.py?line=51'>52</a>\u001b[0m Height_S \u001b[39m=\u001b[39m Height_Standard(Height, Height_min, Height_max)\n\u001b[1;32m---> <a href='file:///d%3A/WaterBalance/codeExample/func.py?line=53'>54</a>\u001b[0m \u001b[39mreturn\u001b[39;00m Area_max \u001b[39m*\u001b[39m (a \u001b[39m*\u001b[39m Height_S \u001b[39m+\u001b[39m \u001b[39m0.5\u001b[39m \u001b[39m*\u001b[39m (\u001b[39m1\u001b[39;49m \u001b[39m-\u001b[39;49m a)(\u001b[39m1\u001b[39;49m \u001b[39m-\u001b[39;49m math\u001b[39m.\u001b[39;49mcos(math\u001b[39m.\u001b[39;49mpi \u001b[39m*\u001b[39;49m Height_S))) \u001b[39m*\u001b[39m\u001b[39m*\u001b[39m (p \u001b[39m-\u001b[39m \u001b[39m1\u001b[39m) \u001b[39m*\u001b[39m (\u001b[39m1\u001b[39m \u001b[39m+\u001b[39m ((\u001b[39m1\u001b[39m \u001b[39m-\u001b[39m a) \u001b[39m/\u001b[39m \u001b[39m2\u001b[39m \u001b[39m*\u001b[39m a)\u001b[39m*\u001b[39m pi \u001b[39m*\u001b[39m math\u001b[39m.\u001b[39msin(pi \u001b[39m*\u001b[39m Height_S))\n",
      "\u001b[1;31mTypeError\u001b[0m: 'float' object is not callable"
     ]
    }
   ],
   "source": [
    "func.Area_Water(990, 968, 1050, 4700000, 0.5, 1.5)"
   ]
  },
  {
   "cell_type": "markdown",
   "metadata": {},
   "source": [
    "### check Validation of Volume of Water"
   ]
  },
  {
   "cell_type": "code",
   "execution_count": 9,
   "metadata": {},
   "outputs": [
    {
     "data": {
      "text/plain": [
       "522374385.99799234"
      ]
     },
     "execution_count": 9,
     "metadata": {},
     "output_type": "execute_result"
    }
   ],
   "source": [
    "func.Volume_Water(990, 968, 1050, 47000000, 0.5, 1.5)"
   ]
  },
  {
   "cell_type": "markdown",
   "metadata": {},
   "source": [
    "### check Validation of Remain Volume of water in reservoir"
   ]
  },
  {
   "cell_type": "code",
   "execution_count": 16,
   "metadata": {},
   "outputs": [
    {
     "data": {
      "text/plain": [
       "2000000091374385.8"
      ]
     },
     "execution_count": 16,
     "metadata": {},
     "output_type": "execute_result"
    }
   ],
   "source": [
    "balance.Volume_Water2(990, 968, 1050, 47000000, 0.5, 1.5, 100000000, 10000000, 10000000, 200000000, 1000000, 0.2, 40000000, 500000000)"
   ]
  },
  {
   "cell_type": "markdown",
   "metadata": {},
   "source": []
  },
  {
   "cell_type": "markdown",
   "metadata": {},
   "source": []
  },
  {
   "cell_type": "markdown",
   "metadata": {},
   "source": []
  }
 ],
 "metadata": {
  "interpreter": {
   "hash": "dba5fd7480f44274412e66c99f640ea4c1162a6b28b42a6409182f729250c87c"
  },
  "kernelspec": {
   "display_name": "Python 3.10.2 64-bit",
   "language": "python",
   "name": "python3"
  },
  "language_info": {
   "codemirror_mode": {
    "name": "ipython",
    "version": 3
   },
   "file_extension": ".py",
   "mimetype": "text/x-python",
   "name": "python",
   "nbconvert_exporter": "python",
   "pygments_lexer": "ipython3",
   "version": "3.10.2"
  },
  "orig_nbformat": 4
 },
 "nbformat": 4,
 "nbformat_minor": 2
}
